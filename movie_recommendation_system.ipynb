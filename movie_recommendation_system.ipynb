{
 "cells": [
  {
   "cell_type": "markdown",
   "metadata": {
    "id": "TbYN1Cwx1imL"
   },
   "source": [
    "# **Film Recommendation System Using Collaborative Filtering**\n",
    "\n",
    "**Background**\n",
    "\n",
    "Movie recommendation systems have become very important in the entertainment industry to help users find films that suit their preferences. In this project, we aim to develop a film recommendation system using the Collaborative Filtering method. Collaborative Filtering is a technique that focuses on comparing user preferences to present relevant recommendations. By using this approach, we hope to provide users with personalized and accurate movie recommendations.\n",
    "\n",
    "**Objective**\n",
    "\n",
    "The main goal of this project is to build a movie recommendation system that can provide relevant recommendations based on user preferences. We want to provide users with a better experience in finding films that are interesting and according to their tastes. In addition, this project also aims to increase understanding of the Collaborative Filtering method and its application in the film recommendation domain.\n",
    "\n",
    "**Data Used**\n",
    "\n",
    "For this project, we are using two data tables namely \"movies\" and \"ratings\". The \"movies\" table contains information about available films, including movie ID, title, and related genres. Meanwhile, the \"ratings\" table contains information about the rating given by the user for each film, including the user ID, movie ID, rating, and timestamp. This data provides insight into user preferences for existing films.\n",
    "\n",
    "**Process Performed:**\n",
    "\n",
    "1. Data Preprocessing: Data from the \"movies\" and \"ratings\" tables are read using the pandas library. Performed handling of missing or invalid values in the data. If necessary, data transformation or encoding is performed, for example changing genres into binary features with one-hot encoding.\n",
    "2. Data Analysis: Data exploration is carried out to understand the characteristics of the dataset. Identify descriptive statistics and visualize data, such as the distribution of film ratings or the distribution of film genres. It also identifies trends or patterns in the data, such as the most popular genres or films with the highest ratings.\n",
    "3. Application of the Collaborative Filtering Model: The data is separated into training data and test data. Created a user-item matrix based on rating data. The appropriate Collaborative Filtering algorithm is selected, for example User-based Collaborative Filtering or Item-based Collaborative Filtering. The Collaborative Filtering model is trained using training data, and rating predictions are made for users and films that are not in the training data.\n",
    "4. Model Evaluation: Test data is used to evaluate model performance. A comparison is made between the predicted results and the actual value using evaluation metrics, such as Mean Squared Error (MSE), Root Mean Squared Error (RMSE), Precision, Recall, and F1-Score. Evaluation results are used to analyze model performance and look for potential to improve it.\n",
    "5. Visualization of Results: Visualize the distribution of predicted results and compare them with the actual values. For example, visualizing the distribution of rating prediction results to see how far the model can accurately predict ratings within a certain range.\n",
    "\n",
    "By running this project in Jupyter Notebook or Google Colab, you will be able to see interactively the steps involved in building a movie recommendation system using Collaborative Filtering. You can also do further exploration of the data and make adjustments or improvements to the model used."
   ]
  },
  {
   "cell_type": "markdown",
   "metadata": {
    "id": "Te0u8-Eo6KRS"
   },
   "source": [
    "#### **Setup**\n",
    "\n",
    "Load some relevan libraries to perform this project"
   ]
  },
  {
   "cell_type": "code",
   "execution_count": 4,
   "metadata": {
    "id": "3cL81k7V60PL"
   },
   "outputs": [],
   "source": [
    "import pandas as pd\n",
    "import numpy as np\n",
    "import matplotlib.pyplot as plt\n",
    "import seaborn as sns\n",
    "from surprise import Dataset, Reader, KNNBasic # to read and understand dataset format,\n",
    "#KNNBasic to calculates the similarity and provides recommendations based on the most similar items.\n",
    "from surprise.model_selection import train_test_split # to divide the dataset into training and test subsets\n",
    "from surprise import accuracy # to measure the accuracy of the recommendation model"
   ]
  },
  {
   "cell_type": "code",
   "execution_count": 5,
   "metadata": {
    "colab": {
     "base_uri": "https://localhost:8080/",
     "height": 206
    },
    "id": "Wq54qEpK7x4m",
    "outputId": "446850b0-b1ae-47e6-894a-57961b790acc"
   },
   "outputs": [
    {
     "data": {
      "text/html": [
       "\n",
       "  <div id=\"df-52c3f6b8-5ffe-4119-a94c-1486e9e260e2\">\n",
       "    <div class=\"colab-df-container\">\n",
       "      <div>\n",
       "<style scoped>\n",
       "    .dataframe tbody tr th:only-of-type {\n",
       "        vertical-align: middle;\n",
       "    }\n",
       "\n",
       "    .dataframe tbody tr th {\n",
       "        vertical-align: top;\n",
       "    }\n",
       "\n",
       "    .dataframe thead th {\n",
       "        text-align: right;\n",
       "    }\n",
       "</style>\n",
       "<table border=\"1\" class=\"dataframe\">\n",
       "  <thead>\n",
       "    <tr style=\"text-align: right;\">\n",
       "      <th></th>\n",
       "      <th>movieId</th>\n",
       "      <th>title</th>\n",
       "      <th>genres</th>\n",
       "    </tr>\n",
       "  </thead>\n",
       "  <tbody>\n",
       "    <tr>\n",
       "      <th>0</th>\n",
       "      <td>1</td>\n",
       "      <td>Toy Story (1995)</td>\n",
       "      <td>Adventure|Animation|Children|Comedy|Fantasy</td>\n",
       "    </tr>\n",
       "    <tr>\n",
       "      <th>1</th>\n",
       "      <td>2</td>\n",
       "      <td>Jumanji (1995)</td>\n",
       "      <td>Adventure|Children|Fantasy</td>\n",
       "    </tr>\n",
       "    <tr>\n",
       "      <th>2</th>\n",
       "      <td>3</td>\n",
       "      <td>Grumpier Old Men (1995)</td>\n",
       "      <td>Comedy|Romance</td>\n",
       "    </tr>\n",
       "    <tr>\n",
       "      <th>3</th>\n",
       "      <td>4</td>\n",
       "      <td>Waiting to Exhale (1995)</td>\n",
       "      <td>Comedy|Drama|Romance</td>\n",
       "    </tr>\n",
       "    <tr>\n",
       "      <th>4</th>\n",
       "      <td>5</td>\n",
       "      <td>Father of the Bride Part II (1995)</td>\n",
       "      <td>Comedy</td>\n",
       "    </tr>\n",
       "  </tbody>\n",
       "</table>\n",
       "</div>\n",
       "      <button class=\"colab-df-convert\" onclick=\"convertToInteractive('df-52c3f6b8-5ffe-4119-a94c-1486e9e260e2')\"\n",
       "              title=\"Convert this dataframe to an interactive table.\"\n",
       "              style=\"display:none;\">\n",
       "        \n",
       "  <svg xmlns=\"http://www.w3.org/2000/svg\" height=\"24px\"viewBox=\"0 0 24 24\"\n",
       "       width=\"24px\">\n",
       "    <path d=\"M0 0h24v24H0V0z\" fill=\"none\"/>\n",
       "    <path d=\"M18.56 5.44l.94 2.06.94-2.06 2.06-.94-2.06-.94-.94-2.06-.94 2.06-2.06.94zm-11 1L8.5 8.5l.94-2.06 2.06-.94-2.06-.94L8.5 2.5l-.94 2.06-2.06.94zm10 10l.94 2.06.94-2.06 2.06-.94-2.06-.94-.94-2.06-.94 2.06-2.06.94z\"/><path d=\"M17.41 7.96l-1.37-1.37c-.4-.4-.92-.59-1.43-.59-.52 0-1.04.2-1.43.59L10.3 9.45l-7.72 7.72c-.78.78-.78 2.05 0 2.83L4 21.41c.39.39.9.59 1.41.59.51 0 1.02-.2 1.41-.59l7.78-7.78 2.81-2.81c.8-.78.8-2.07 0-2.86zM5.41 20L4 18.59l7.72-7.72 1.47 1.35L5.41 20z\"/>\n",
       "  </svg>\n",
       "      </button>\n",
       "      \n",
       "  <style>\n",
       "    .colab-df-container {\n",
       "      display:flex;\n",
       "      flex-wrap:wrap;\n",
       "      gap: 12px;\n",
       "    }\n",
       "\n",
       "    .colab-df-convert {\n",
       "      background-color: #E8F0FE;\n",
       "      border: none;\n",
       "      border-radius: 50%;\n",
       "      cursor: pointer;\n",
       "      display: none;\n",
       "      fill: #1967D2;\n",
       "      height: 32px;\n",
       "      padding: 0 0 0 0;\n",
       "      width: 32px;\n",
       "    }\n",
       "\n",
       "    .colab-df-convert:hover {\n",
       "      background-color: #E2EBFA;\n",
       "      box-shadow: 0px 1px 2px rgba(60, 64, 67, 0.3), 0px 1px 3px 1px rgba(60, 64, 67, 0.15);\n",
       "      fill: #174EA6;\n",
       "    }\n",
       "\n",
       "    [theme=dark] .colab-df-convert {\n",
       "      background-color: #3B4455;\n",
       "      fill: #D2E3FC;\n",
       "    }\n",
       "\n",
       "    [theme=dark] .colab-df-convert:hover {\n",
       "      background-color: #434B5C;\n",
       "      box-shadow: 0px 1px 3px 1px rgba(0, 0, 0, 0.15);\n",
       "      filter: drop-shadow(0px 1px 2px rgba(0, 0, 0, 0.3));\n",
       "      fill: #FFFFFF;\n",
       "    }\n",
       "  </style>\n",
       "\n",
       "      <script>\n",
       "        const buttonEl =\n",
       "          document.querySelector('#df-52c3f6b8-5ffe-4119-a94c-1486e9e260e2 button.colab-df-convert');\n",
       "        buttonEl.style.display =\n",
       "          google.colab.kernel.accessAllowed ? 'block' : 'none';\n",
       "\n",
       "        async function convertToInteractive(key) {\n",
       "          const element = document.querySelector('#df-52c3f6b8-5ffe-4119-a94c-1486e9e260e2');\n",
       "          const dataTable =\n",
       "            await google.colab.kernel.invokeFunction('convertToInteractive',\n",
       "                                                     [key], {});\n",
       "          if (!dataTable) return;\n",
       "\n",
       "          const docLinkHtml = 'Like what you see? Visit the ' +\n",
       "            '<a target=\"_blank\" href=https://colab.research.google.com/notebooks/data_table.ipynb>data table notebook</a>'\n",
       "            + ' to learn more about interactive tables.';\n",
       "          element.innerHTML = '';\n",
       "          dataTable['output_type'] = 'display_data';\n",
       "          await google.colab.output.renderOutput(dataTable, element);\n",
       "          const docLink = document.createElement('div');\n",
       "          docLink.innerHTML = docLinkHtml;\n",
       "          element.appendChild(docLink);\n",
       "        }\n",
       "      </script>\n",
       "    </div>\n",
       "  </div>\n",
       "  "
      ],
      "text/plain": [
       "   movieId                               title  \\\n",
       "0        1                    Toy Story (1995)   \n",
       "1        2                      Jumanji (1995)   \n",
       "2        3             Grumpier Old Men (1995)   \n",
       "3        4            Waiting to Exhale (1995)   \n",
       "4        5  Father of the Bride Part II (1995)   \n",
       "\n",
       "                                        genres  \n",
       "0  Adventure|Animation|Children|Comedy|Fantasy  \n",
       "1                   Adventure|Children|Fantasy  \n",
       "2                               Comedy|Romance  \n",
       "3                         Comedy|Drama|Romance  \n",
       "4                                       Comedy  "
      ]
     },
     "execution_count": 5,
     "metadata": {},
     "output_type": "execute_result"
    }
   ],
   "source": [
    "## Import and read data\n",
    "movie_data = pd.read_csv('movies.csv')\n",
    "movie_data.head()"
   ]
  },
  {
   "cell_type": "code",
   "execution_count": 6,
   "metadata": {
    "colab": {
     "base_uri": "https://localhost:8080/",
     "height": 206
    },
    "id": "qevP0PsV8UbW",
    "outputId": "2d4dee8f-eef5-4ecf-c0a7-d556bc4c1ac0"
   },
   "outputs": [
    {
     "data": {
      "text/html": [
       "\n",
       "  <div id=\"df-36278a1b-5963-458d-928c-2882e3b4c3be\">\n",
       "    <div class=\"colab-df-container\">\n",
       "      <div>\n",
       "<style scoped>\n",
       "    .dataframe tbody tr th:only-of-type {\n",
       "        vertical-align: middle;\n",
       "    }\n",
       "\n",
       "    .dataframe tbody tr th {\n",
       "        vertical-align: top;\n",
       "    }\n",
       "\n",
       "    .dataframe thead th {\n",
       "        text-align: right;\n",
       "    }\n",
       "</style>\n",
       "<table border=\"1\" class=\"dataframe\">\n",
       "  <thead>\n",
       "    <tr style=\"text-align: right;\">\n",
       "      <th></th>\n",
       "      <th>userId</th>\n",
       "      <th>movieId</th>\n",
       "      <th>rating</th>\n",
       "      <th>timestamp</th>\n",
       "    </tr>\n",
       "  </thead>\n",
       "  <tbody>\n",
       "    <tr>\n",
       "      <th>0</th>\n",
       "      <td>1</td>\n",
       "      <td>16</td>\n",
       "      <td>4.0</td>\n",
       "      <td>1217897793</td>\n",
       "    </tr>\n",
       "    <tr>\n",
       "      <th>1</th>\n",
       "      <td>1</td>\n",
       "      <td>24</td>\n",
       "      <td>1.5</td>\n",
       "      <td>1217895807</td>\n",
       "    </tr>\n",
       "    <tr>\n",
       "      <th>2</th>\n",
       "      <td>1</td>\n",
       "      <td>32</td>\n",
       "      <td>4.0</td>\n",
       "      <td>1217896246</td>\n",
       "    </tr>\n",
       "    <tr>\n",
       "      <th>3</th>\n",
       "      <td>1</td>\n",
       "      <td>47</td>\n",
       "      <td>4.0</td>\n",
       "      <td>1217896556</td>\n",
       "    </tr>\n",
       "    <tr>\n",
       "      <th>4</th>\n",
       "      <td>1</td>\n",
       "      <td>50</td>\n",
       "      <td>4.0</td>\n",
       "      <td>1217896523</td>\n",
       "    </tr>\n",
       "  </tbody>\n",
       "</table>\n",
       "</div>\n",
       "      <button class=\"colab-df-convert\" onclick=\"convertToInteractive('df-36278a1b-5963-458d-928c-2882e3b4c3be')\"\n",
       "              title=\"Convert this dataframe to an interactive table.\"\n",
       "              style=\"display:none;\">\n",
       "        \n",
       "  <svg xmlns=\"http://www.w3.org/2000/svg\" height=\"24px\"viewBox=\"0 0 24 24\"\n",
       "       width=\"24px\">\n",
       "    <path d=\"M0 0h24v24H0V0z\" fill=\"none\"/>\n",
       "    <path d=\"M18.56 5.44l.94 2.06.94-2.06 2.06-.94-2.06-.94-.94-2.06-.94 2.06-2.06.94zm-11 1L8.5 8.5l.94-2.06 2.06-.94-2.06-.94L8.5 2.5l-.94 2.06-2.06.94zm10 10l.94 2.06.94-2.06 2.06-.94-2.06-.94-.94-2.06-.94 2.06-2.06.94z\"/><path d=\"M17.41 7.96l-1.37-1.37c-.4-.4-.92-.59-1.43-.59-.52 0-1.04.2-1.43.59L10.3 9.45l-7.72 7.72c-.78.78-.78 2.05 0 2.83L4 21.41c.39.39.9.59 1.41.59.51 0 1.02-.2 1.41-.59l7.78-7.78 2.81-2.81c.8-.78.8-2.07 0-2.86zM5.41 20L4 18.59l7.72-7.72 1.47 1.35L5.41 20z\"/>\n",
       "  </svg>\n",
       "      </button>\n",
       "      \n",
       "  <style>\n",
       "    .colab-df-container {\n",
       "      display:flex;\n",
       "      flex-wrap:wrap;\n",
       "      gap: 12px;\n",
       "    }\n",
       "\n",
       "    .colab-df-convert {\n",
       "      background-color: #E8F0FE;\n",
       "      border: none;\n",
       "      border-radius: 50%;\n",
       "      cursor: pointer;\n",
       "      display: none;\n",
       "      fill: #1967D2;\n",
       "      height: 32px;\n",
       "      padding: 0 0 0 0;\n",
       "      width: 32px;\n",
       "    }\n",
       "\n",
       "    .colab-df-convert:hover {\n",
       "      background-color: #E2EBFA;\n",
       "      box-shadow: 0px 1px 2px rgba(60, 64, 67, 0.3), 0px 1px 3px 1px rgba(60, 64, 67, 0.15);\n",
       "      fill: #174EA6;\n",
       "    }\n",
       "\n",
       "    [theme=dark] .colab-df-convert {\n",
       "      background-color: #3B4455;\n",
       "      fill: #D2E3FC;\n",
       "    }\n",
       "\n",
       "    [theme=dark] .colab-df-convert:hover {\n",
       "      background-color: #434B5C;\n",
       "      box-shadow: 0px 1px 3px 1px rgba(0, 0, 0, 0.15);\n",
       "      filter: drop-shadow(0px 1px 2px rgba(0, 0, 0, 0.3));\n",
       "      fill: #FFFFFF;\n",
       "    }\n",
       "  </style>\n",
       "\n",
       "      <script>\n",
       "        const buttonEl =\n",
       "          document.querySelector('#df-36278a1b-5963-458d-928c-2882e3b4c3be button.colab-df-convert');\n",
       "        buttonEl.style.display =\n",
       "          google.colab.kernel.accessAllowed ? 'block' : 'none';\n",
       "\n",
       "        async function convertToInteractive(key) {\n",
       "          const element = document.querySelector('#df-36278a1b-5963-458d-928c-2882e3b4c3be');\n",
       "          const dataTable =\n",
       "            await google.colab.kernel.invokeFunction('convertToInteractive',\n",
       "                                                     [key], {});\n",
       "          if (!dataTable) return;\n",
       "\n",
       "          const docLinkHtml = 'Like what you see? Visit the ' +\n",
       "            '<a target=\"_blank\" href=https://colab.research.google.com/notebooks/data_table.ipynb>data table notebook</a>'\n",
       "            + ' to learn more about interactive tables.';\n",
       "          element.innerHTML = '';\n",
       "          dataTable['output_type'] = 'display_data';\n",
       "          await google.colab.output.renderOutput(dataTable, element);\n",
       "          const docLink = document.createElement('div');\n",
       "          docLink.innerHTML = docLinkHtml;\n",
       "          element.appendChild(docLink);\n",
       "        }\n",
       "      </script>\n",
       "    </div>\n",
       "  </div>\n",
       "  "
      ],
      "text/plain": [
       "   userId  movieId  rating   timestamp\n",
       "0       1       16     4.0  1217897793\n",
       "1       1       24     1.5  1217895807\n",
       "2       1       32     4.0  1217896246\n",
       "3       1       47     4.0  1217896556\n",
       "4       1       50     4.0  1217896523"
      ]
     },
     "execution_count": 6,
     "metadata": {},
     "output_type": "execute_result"
    }
   ],
   "source": [
    "rating_data = pd.read_csv('ratings.csv')\n",
    "rating_data.head()"
   ]
  },
  {
   "cell_type": "markdown",
   "metadata": {
    "id": "_1cwiL8CCS1V"
   },
   "source": [
    "#### **Data Preprocessing**"
   ]
  },
  {
   "cell_type": "code",
   "execution_count": 7,
   "metadata": {
    "colab": {
     "base_uri": "https://localhost:8080/"
    },
    "id": "hyv9nU-c8cLK",
    "outputId": "6663209e-5e0c-4e7b-f1ec-8491de6afb72"
   },
   "outputs": [
    {
     "name": "stdout",
     "output_type": "stream",
     "text": [
      "<class 'pandas.core.frame.DataFrame'>\n",
      "RangeIndex: 10329 entries, 0 to 10328\n",
      "Data columns (total 3 columns):\n",
      " #   Column   Non-Null Count  Dtype \n",
      "---  ------   --------------  ----- \n",
      " 0   movieId  10329 non-null  int64 \n",
      " 1   title    10329 non-null  object\n",
      " 2   genres   10329 non-null  object\n",
      "dtypes: int64(1), object(2)\n",
      "memory usage: 242.2+ KB\n",
      "None\n",
      "<class 'pandas.core.frame.DataFrame'>\n",
      "RangeIndex: 105339 entries, 0 to 105338\n",
      "Data columns (total 4 columns):\n",
      " #   Column     Non-Null Count   Dtype  \n",
      "---  ------     --------------   -----  \n",
      " 0   userId     105339 non-null  int64  \n",
      " 1   movieId    105339 non-null  int64  \n",
      " 2   rating     105339 non-null  float64\n",
      " 3   timestamp  105339 non-null  int64  \n",
      "dtypes: float64(1), int64(3)\n",
      "memory usage: 3.2 MB\n",
      "None\n"
     ]
    }
   ],
   "source": [
    "# Check data type each attribut\n",
    "print(movie_data.info())\n",
    "print(rating_data.info())"
   ]
  },
  {
   "cell_type": "code",
   "execution_count": 8,
   "metadata": {
    "colab": {
     "base_uri": "https://localhost:8080/"
    },
    "id": "W-ZX2mm--Zzh",
    "outputId": "d5f67877-e16a-4f00-86eb-453894ffbcf5"
   },
   "outputs": [
    {
     "name": "stdout",
     "output_type": "stream",
     "text": [
      "movieId    0\n",
      "title      0\n",
      "genres     0\n",
      "dtype: int64\n",
      "userId       0\n",
      "movieId      0\n",
      "rating       0\n",
      "timestamp    0\n",
      "dtype: int64\n"
     ]
    }
   ],
   "source": [
    "# Check and handle missing or invalid values in data\n",
    "print(movie_data.isnull().sum())\n",
    "print(rating_data.isnull().sum())"
   ]
  },
  {
   "cell_type": "code",
   "execution_count": 9,
   "metadata": {
    "colab": {
     "base_uri": "https://localhost:8080/"
    },
    "id": "qhLAWwLO_HD_",
    "outputId": "bbb6785e-eebd-45dd-cd55-5a86a479706e"
   },
   "outputs": [
    {
     "name": "stdout",
     "output_type": "stream",
     "text": [
      "<class 'pandas.core.frame.DataFrame'>\n",
      "RangeIndex: 105339 entries, 0 to 105338\n",
      "Data columns (total 4 columns):\n",
      " #   Column     Non-Null Count   Dtype         \n",
      "---  ------     --------------   -----         \n",
      " 0   userId     105339 non-null  int64         \n",
      " 1   movieId    105339 non-null  int64         \n",
      " 2   rating     105339 non-null  float64       \n",
      " 3   timestamp  105339 non-null  datetime64[ns]\n",
      "dtypes: datetime64[ns](1), float64(1), int64(2)\n",
      "memory usage: 3.2 MB\n"
     ]
    }
   ],
   "source": [
    "# adjusting the data format on the timestamp to datetime\n",
    "\n",
    "rating_data['timestamp'] = pd.to_datetime(rating_data['timestamp'])\n",
    "rating_data.info()"
   ]
  },
  {
   "cell_type": "markdown",
   "metadata": {
    "id": "1RdanUjvAV79"
   },
   "source": [
    "Perform transformation or encoding if necessary, for example changing genres to binary features with one-hot encoding. Why we do this, because Machine learning models generally require numeric data as input. By doing one-hot encoding, we turn genre categories into binary features that can be interpreted as 0 or 1.\n",
    "By using one-hot encoding, we provide the model with richer information about film genres. The model can better learn the relationship between certain genres and user preferences."
   ]
  },
  {
   "cell_type": "code",
   "execution_count": 10,
   "metadata": {
    "colab": {
     "base_uri": "https://localhost:8080/"
    },
    "id": "csQ0gIzt_dWw",
    "outputId": "c435466a-4838-4851-ceb2-eb3a8f8ce1b1"
   },
   "outputs": [
    {
     "name": "stdout",
     "output_type": "stream",
     "text": [
      "   movieId                               title  genres_(no genres listed)  \\\n",
      "0        1                    Toy Story (1995)                          0   \n",
      "1        2                      Jumanji (1995)                          0   \n",
      "2        3             Grumpier Old Men (1995)                          0   \n",
      "3        4            Waiting to Exhale (1995)                          0   \n",
      "4        5  Father of the Bride Part II (1995)                          0   \n",
      "\n",
      "   genres_Action  genres_Action|Adventure  genres_Action|Adventure|Animation  \\\n",
      "0              0                        0                                  0   \n",
      "1              0                        0                                  0   \n",
      "2              0                        0                                  0   \n",
      "3              0                        0                                  0   \n",
      "4              0                        0                                  0   \n",
      "\n",
      "   genres_Action|Adventure|Animation|Children  \\\n",
      "0                                           0   \n",
      "1                                           0   \n",
      "2                                           0   \n",
      "3                                           0   \n",
      "4                                           0   \n",
      "\n",
      "   genres_Action|Adventure|Animation|Children|Comedy  \\\n",
      "0                                                  0   \n",
      "1                                                  0   \n",
      "2                                                  0   \n",
      "3                                                  0   \n",
      "4                                                  0   \n",
      "\n",
      "   genres_Action|Adventure|Animation|Children|Comedy|Fantasy  \\\n",
      "0                                                  0           \n",
      "1                                                  0           \n",
      "2                                                  0           \n",
      "3                                                  0           \n",
      "4                                                  0           \n",
      "\n",
      "   genres_Action|Adventure|Animation|Children|Comedy|IMAX  ...  \\\n",
      "0                                                  0       ...   \n",
      "1                                                  0       ...   \n",
      "2                                                  0       ...   \n",
      "3                                                  0       ...   \n",
      "4                                                  0       ...   \n",
      "\n",
      "   genres_Romance|War  genres_Romance|Western  genres_Sci-Fi  \\\n",
      "0                   0                       0              0   \n",
      "1                   0                       0              0   \n",
      "2                   0                       0              0   \n",
      "3                   0                       0              0   \n",
      "4                   0                       0              0   \n",
      "\n",
      "   genres_Sci-Fi|IMAX  genres_Sci-Fi|Thriller  genres_Sci-Fi|Thriller|IMAX  \\\n",
      "0                   0                       0                            0   \n",
      "1                   0                       0                            0   \n",
      "2                   0                       0                            0   \n",
      "3                   0                       0                            0   \n",
      "4                   0                       0                            0   \n",
      "\n",
      "   genres_Thriller  genres_Thriller|War  genres_War  genres_Western  \n",
      "0                0                    0           0               0  \n",
      "1                0                    0           0               0  \n",
      "2                0                    0           0               0  \n",
      "3                0                    0           0               0  \n",
      "4                0                    0           0               0  \n",
      "\n",
      "[5 rows x 940 columns]\n",
      "   userId  movieId  rating                     timestamp\n",
      "0       1       16     4.0 1970-01-01 00:00:01.217897793\n",
      "1       1       24     1.5 1970-01-01 00:00:01.217895807\n",
      "2       1       32     4.0 1970-01-01 00:00:01.217896246\n",
      "3       1       47     4.0 1970-01-01 00:00:01.217896556\n",
      "4       1       50     4.0 1970-01-01 00:00:01.217896523\n"
     ]
    }
   ],
   "source": [
    "# Turning genres into binary features with one-hot encoding\n",
    "movie_encoded = pd.get_dummies(movie_data, columns=['genres'])\n",
    "\n",
    "print(movie_encoded.head())\n",
    "print(rating_data.head())"
   ]
  },
  {
   "cell_type": "markdown",
   "metadata": {
    "id": "N1ZYFOqcC926"
   },
   "source": [
    "#### **Explore Data**"
   ]
  },
  {
   "cell_type": "code",
   "execution_count": 11,
   "metadata": {
    "colab": {
     "base_uri": "https://localhost:8080/"
    },
    "id": "R-MyLYWfBcDS",
    "outputId": "1adff8e8-30bc-405b-d4b8-8b7e1c5e0645"
   },
   "outputs": [
    {
     "name": "stdout",
     "output_type": "stream",
     "text": [
      "Number of movies: 10329\n",
      "Number of ratings: 105339\n",
      "Column in table 'movies': Index(['movieId', 'title', 'genres'], dtype='object')\n",
      "Column in table 'ratings': Index(['userId', 'movieId', 'rating', 'timestamp'], dtype='object')\n"
     ]
    }
   ],
   "source": [
    "print(\"Number of movies:\", len(movie_data))\n",
    "print(\"Number of ratings:\", len(rating_data))\n",
    "print(\"Column in table 'movies':\", movie_data.columns)\n",
    "print(\"Column in table 'ratings':\", rating_data.columns)"
   ]
  },
  {
   "cell_type": "code",
   "execution_count": 12,
   "metadata": {
    "colab": {
     "base_uri": "https://localhost:8080/"
    },
    "id": "MD15098BDm9J",
    "outputId": "03039953-8027-43e8-c5af-d7a88afe8285"
   },
   "outputs": [
    {
     "name": "stdout",
     "output_type": "stream",
     "text": [
      "Genre Film Statistics:\n",
      "Drama                 5220\n",
      "Comedy                3515\n",
      "Thriller              2187\n",
      "Romance               1788\n",
      "Action                1737\n",
      "Crime                 1440\n",
      "Adventure             1164\n",
      "Horror                1001\n",
      "Sci-Fi                 860\n",
      "Mystery                675\n",
      "Fantasy                670\n",
      "Children               540\n",
      "War                    503\n",
      "Documentary            415\n",
      "Musical                409\n",
      "Animation              401\n",
      "Western                235\n",
      "Film-Noir              195\n",
      "IMAX                   152\n",
      "(no genres listed)       7\n",
      "dtype: int64\n"
     ]
    }
   ],
   "source": [
    "# 'genre' descriptive statistics\n",
    "genre_counts = movie_data['genres'].str.split('|', expand=True).stack().value_counts()\n",
    "print(\"Genre Film Statistics:\")\n",
    "print(genre_counts)"
   ]
  },
  {
   "cell_type": "code",
   "execution_count": 13,
   "metadata": {
    "colab": {
     "base_uri": "https://localhost:8080/",
     "height": 472
    },
    "id": "0TrDpDDZEAvs",
    "outputId": "d1af6c0e-995a-4cde-b6a3-f5eb85ec7ec1"
   },
   "outputs": [
    {
     "data": {
      "image/png": "[encoded data removed]",
      "text/plain": [
       "<Figure size 640x480 with 1 Axes>"
      ]
     },
     "metadata": {},
     "output_type": "display_data"
    }
   ],
   "source": [
    "# Distribution of film rating\n",
    "plt.hist(rating_data['rating'], bins=10)\n",
    "plt.xlabel('Rating')\n",
    "plt.ylabel('Count')\n",
    "plt.title('Distribution of film rating')\n",
    "plt.show()"
   ]
  },
  {
   "cell_type": "code",
   "execution_count": 14,
   "metadata": {
    "colab": {
     "base_uri": "https://localhost:8080/"
    },
    "id": "ieVRwX99ESLp",
    "outputId": "16c36769-87ec-4c8a-fb24-f395ce72aa78"
   },
   "outputs": [
    {
     "name": "stdout",
     "output_type": "stream",
     "text": [
      "The most popular film genres:\n",
      "Drama       5220\n",
      "Comedy      3515\n",
      "Thriller    2187\n",
      "Romance     1788\n",
      "Action      1737\n",
      "dtype: int64\n"
     ]
    }
   ],
   "source": [
    "# The most popular film genres\n",
    "popular_genres = genre_counts.head(5)\n",
    "print(\"The most popular film genres:\")\n",
    "print(popular_genres)"
   ]
  },
  {
   "cell_type": "code",
   "execution_count": 15,
   "metadata": {
    "colab": {
     "base_uri": "https://localhost:8080/"
    },
    "id": "PNi8LMU8Eh8S",
    "outputId": "01ccb001-b1a0-46f0-b60f-41fdabd71410"
   },
   "outputs": [
    {
     "name": "stdout",
     "output_type": "stream",
     "text": [
      "Film with the highest rating:\n",
      "                                            title  rating\n",
      "0  Star Maker, The (Uomo delle stelle, L') (1995)     5.0\n",
      "1                                Dream Man (1995)     5.0\n",
      "2                              Being Human (1993)     5.0\n",
      "3                           Heaven & Earth (1993)     5.0\n",
      "4                                     Kika (1993)     5.0\n"
     ]
    }
   ],
   "source": [
    "# Film with the highest rating\n",
    "top_rated_movies = rating_data.groupby('movieId')['rating'].mean().nlargest(5)\n",
    "top_rated_movies = top_rated_movies.reset_index()\n",
    "top_rated_movies = pd.merge(top_rated_movies, movie_data[['movieId', 'title']], on='movieId', how='left')\n",
    "print(\"Film with the highest rating:\")\n",
    "print(top_rated_movies[['title', 'rating']])"
   ]
  },
  {
   "cell_type": "code",
   "execution_count": 16,
   "metadata": {
    "colab": {
     "base_uri": "https://localhost:8080/",
     "height": 564
    },
    "id": "6BP4Yc8FnjDZ",
    "outputId": "6b80f685-7512-4e70-9b5b-19a2d4e3faee"
   },
   "outputs": [
    {
     "data": {
      "image/png": "[encoded data removed]",
      "text/plain": [
       "<Figure size 1000x600 with 1 Axes>"
      ]
     },
     "metadata": {},
     "output_type": "display_data"
    }
   ],
   "source": [
    "# Here to calculate top users\n",
    "# Count the number of ratings given by each user\n",
    "user_rating_counts = rating_data['userId'].value_counts()\n",
    "\n",
    "# Take the top 10 users based on the number of ratings given\n",
    "top_users = user_rating_counts.head(10)\n",
    "\n",
    "# Visualize it\n",
    "plt.figure(figsize=(10, 6))\n",
    "plt.bar(top_users.index, top_users.values)\n",
    "plt.xlabel('User ID')\n",
    "plt.ylabel('Number of Ratings')\n",
    "plt.title('Distribution of Top Users')\n",
    "plt.show()"
   ]
  },
  {
   "cell_type": "code",
   "execution_count": 17,
   "metadata": {
    "colab": {
     "base_uri": "https://localhost:8080/",
     "height": 564
    },
    "id": "UKOz1LvpobDQ",
    "outputId": "2aabdc5d-2a65-4c45-8f04-303f9ff35f5c"
   },
   "outputs": [
    {
     "data": {
      "image/png": "[encoded data removed]",
      "text/plain": [
       "<Figure size 1000x600 with 1 Axes>"
      ]
     },
     "metadata": {},
     "output_type": "display_data"
    }
   ],
   "source": [
    "# Filter rating data based on top users\n",
    "top_users_ratings = rating_data[rating_data['userId'].isin(top_users.index)]\n",
    "\n",
    "# Visualize the distribution of ratings given by top users\n",
    "plt.figure(figsize=(10, 6))\n",
    "plt.hist(top_users_ratings['rating'], bins=10, alpha=0.5)\n",
    "plt.xlabel('Rating')\n",
    "plt.ylabel('Count')\n",
    "plt.title('Distribution of Ratings by Top Users')\n",
    "plt.show()"
   ]
  },
  {
   "cell_type": "code",
   "execution_count": 18,
   "metadata": {
    "colab": {
     "base_uri": "https://localhost:8080/",
     "height": 848
    },
    "id": "Z0FgfMJuorW_",
    "outputId": "c0552ab7-2da8-4efa-d690-9fa480cbd674"
   },
   "outputs": [
    {
     "data": {
      "image/png": "[encoded data removed]",
      "text/plain": [
       "<Figure size 1000x600 with 1 Axes>"
      ]
     },
     "metadata": {},
     "output_type": "display_data"
    }
   ],
   "source": [
    "# Calculate the total views of the highest films\n",
    "top_movies = rating_data['movieId'].value_counts().head(10)\n",
    "top_movies_data = movie_data[movie_data['movieId'].isin(top_movies.index)]\n",
    "\n",
    "# Visualize the highest total views of movies\n",
    "plt.figure(figsize=(10, 6))\n",
    "plt.bar(top_movies_data['title'], top_movies.values)\n",
    "plt.xticks(rotation=90)\n",
    "plt.xlabel('Movie')\n",
    "plt.ylabel('Number of Views')\n",
    "plt.title('Top Highest Viewed Movies')\n",
    "plt.show()"
   ]
  },
  {
   "cell_type": "markdown",
   "metadata": {
    "id": "WwWIqj9SJJ9g"
   },
   "source": [
    "#### **Application of collaborative filtering models**\n",
    "\n",
    "**Why**: Collaborative filtering is one of the most popular and effective methods for film recommendations. In this case, you can use the \"ratings\" data to build a model that analyzes user preference patterns for movies. This method will recommend movies that are liked by users with similar preferences.\n",
    "\n",
    "**Function**: The collaborative filtering algorithm will look for similarities between users based on their preferences for the same film. By comparing the preferences of similar users, the algorithm can recommend films that are liked by other users with similar preferences.\n",
    "\n",
    "**Purpose**: The purpose of the collaborative filtering method is to provide film recommendations that are relevant and tailored to user preferences based on patterns of relationship and similarities with other users. "
   ]
  },
  {
   "cell_type": "markdown",
   "metadata": {
    "id": "Hi-3lf-oKHgt"
   },
   "source": [
    "a. First thing we need to separate data into training data (training data) and test data (test data):\n",
    "\n",
    "This is necessary to separate the data that will be used to train the model and the data that will be used to test the model's performance."
   ]
  },
  {
   "cell_type": "code",
   "execution_count": 19,
   "metadata": {
    "id": "rQMfaHgaEw5I"
   },
   "outputs": [],
   "source": [
    "reader = Reader(rating_scale=(0.5, 5))\n",
    "data = Dataset.load_from_df(rating_data[['userId', 'movieId', 'rating']], reader)\n",
    "trainset, testset = train_test_split(data, test_size=0.2)"
   ]
  },
  {
   "cell_type": "markdown",
   "metadata": {
    "id": "9miPLBULKqgu"
   },
   "source": [
    "b. Create a user-item matrix (user-item matrix) based on rating data:\n",
    "\n",
    "to get the user-item matrix representation of the rating data to be used in the collaborative filtering model. This matrix will be input in training the model and making predictions."
   ]
  },
  {
   "cell_type": "code",
   "execution_count": 20,
   "metadata": {
    "id": "PIViPisbKhyR"
   },
   "outputs": [],
   "source": [
    "trainset_matrix = data.build_full_trainset().ur"
   ]
  },
  {
   "cell_type": "markdown",
   "metadata": {
    "id": "eLQdyvPWLrU0"
   },
   "source": [
    "d. Choose the appropriate collaborative algorithm\n",
    "\n",
    "The KNNBasic algorithm was chosen with the cosine similarity method and user-based collaborative filtering."
   ]
  },
  {
   "cell_type": "code",
   "execution_count": 21,
   "metadata": {
    "id": "xCqz4g1RKzd7"
   },
   "outputs": [],
   "source": [
    "# Pilih algoritma collaborative filtering yang sesuai (KNNBasic)\n",
    "model = KNNBasic(k=50, sim_options={'name': 'cosine', 'user_based': True})"
   ]
  },
  {
   "cell_type": "markdown",
   "metadata": {
    "id": "z0VIplKKMRUD"
   },
   "source": [
    "d. Train the collaborative filtering model using the training data:\n",
    "\n",
    "In this step, the collaborative filtering model is obtained by training the KNNBasic algorithm using training data."
   ]
  },
  {
   "cell_type": "code",
   "execution_count": 22,
   "metadata": {
    "colab": {
     "base_uri": "https://localhost:8080/"
    },
    "id": "DldJUWRkMJ3D",
    "outputId": "bd247e82-c31a-4d30-c4e5-65253251e19c"
   },
   "outputs": [
    {
     "name": "stdout",
     "output_type": "stream",
     "text": [
      "Computing the cosine similarity matrix...\n",
      "Done computing similarity matrix.\n"
     ]
    },
    {
     "data": {
      "text/plain": [
       "<surprise.prediction_algorithms.knns.KNNBasic at 0x7fc0b89ae950>"
      ]
     },
     "execution_count": 22,
     "metadata": {},
     "output_type": "execute_result"
    }
   ],
   "source": [
    "# Train data using train data\n",
    "model.fit(trainset)"
   ]
  },
  {
   "cell_type": "markdown",
   "metadata": {
    "id": "_t4OpP4kMx-G"
   },
   "source": [
    "The **<surprise.prediction_algorithms.knns.KNNBasic at 0x7f86dee71f90>** information indicates which model object was created. In this case, the model object is an instance of the **KNNBasic** class from the surprise library with memory address **0x7f86dee71f90.**"
   ]
  },
  {
   "cell_type": "markdown",
   "metadata": {
    "id": "sy316BfvM65T"
   },
   "source": [
    "e. Predict the rating for users and movies that are not in the training data:\n",
    "\n",
    "After the model is trained, we can make rating predictions for users and films that are not in the training data."
   ]
  },
  {
   "cell_type": "code",
   "execution_count": 24,
   "metadata": {
    "id": "w0nPPINmMc32"
   },
   "outputs": [],
   "source": [
    "# Conduct rating predictions for users and movies that are not in the training data\n",
    "predictions = model.test(testset)"
   ]
  },
  {
   "cell_type": "markdown",
   "metadata": {
    "id": "_MYEWnHhNo_q"
   },
   "source": [
    "f. Evaluate model performance using the MSE (Mean Squared Error) or RMSE (Root Mean Squared Error) metrics:\n",
    "\n",
    "The MSE and RMSE metrics are used to measure the model's prediction error. The lower the MSE or RMSE value, the better the model's performance in predicting ratings."
   ]
  },
  {
   "cell_type": "code",
   "execution_count": 25,
   "metadata": {
    "colab": {
     "base_uri": "https://localhost:8080/"
    },
    "id": "I9ZDCxqGNXvW",
    "outputId": "260b1c41-a61a-4184-a007-da326642c7d5"
   },
   "outputs": [
    {
     "name": "stdout",
     "output_type": "stream",
     "text": [
      "MSE: 0.9729\n",
      "Mean Squared Error (MSE): 0.9728735923124003\n",
      "RMSE: 0.9863\n",
      "Root Mean Squared Error (RMSE): 0.9863435467991871\n"
     ]
    }
   ],
   "source": [
    "# Evaluate model performance using the MSE (Mean Squared Error) metric\n",
    "mse = accuracy.mse(predictions)\n",
    "print(\"Mean Squared Error (MSE):\", mse)\n",
    "\n",
    "# Evaluate model performance using the RMSE (Root Mean Squared Error) metric\n",
    "rmse = accuracy.rmse(predictions)\n",
    "print(\"Root Mean Squared Error (RMSE):\", rmse)"
   ]
  },
  {
   "cell_type": "markdown",
   "metadata": {
    "id": "N_xrTeRwc3B3"
   },
   "source": [
    "The MSE value of 0.9729 indicates that the average squared difference between the predicted value and the actual value is around 0.97291. The closer to zero, the better. Likewise, the RMSE value of 0.9863 shows that the average difference between the predicted value and the actual value is around 0.9863. The closer to zero, the better.\n",
    "\n",
    "However, to evaluate more comprehensively, it is advisable to compare these results with other evaluation metrics and perform comparisons with other models or other approaches that may be used.\n",
    "\n",
    "There are several evaluation metrics that are commonly used in collaborative filtering, namely Precision, Recall, and F1-Score. These metrics are useful for measuring the model's performance in making recommendations."
   ]
  },
  {
   "cell_type": "code",
   "execution_count": 26,
   "metadata": {
    "id": "gYFf0jGUNgiM"
   },
   "outputs": [],
   "source": [
    "# We conduct this process by load 'scikit-learn' library first\n",
    "from sklearn.metrics import precision_score, recall_score, f1_score\n",
    "\n",
    "# Get the predicted value and the actual value\n",
    "predicted_ratings = [pred.est for pred in predictions]\n",
    "actual_ratings = [pred.r_ui for pred in predictions]"
   ]
  },
  {
   "cell_type": "code",
   "execution_count": 27,
   "metadata": {
    "id": "6FfuMoaCfao3"
   },
   "outputs": [],
   "source": [
    "# Converts the predicted value to binary (eg 1 if rating >= threshold, 0 if rating < threshold)\n",
    "threshold = 3.5\n",
    "binary_predicted_ratings = [1 if rating >= threshold else 0 for rating in predicted_ratings]\n",
    "binary_actual_ratings = [1 if rating >= threshold else 0 for rating in actual_ratings]"
   ]
  },
  {
   "cell_type": "markdown",
   "metadata": {
    "id": "bgSHkxHsgLlS"
   },
   "source": [
    "The following is a brief description of the evaluation metrics used to compare:\n",
    "\n",
    "**a. Precision:** This metric measures how accurately the model provides relevant recommendations. Precision is expressed as the ratio between the number of relevant recommendations and the total number of recommendations given.\n",
    "\n",
    "**b. Recall:** This metric measures how well the model can find all relevant items. Recall is expressed as the ratio between the number of relevant recommendations and the total number of items that are actually relevant.\n",
    "\n",
    "**c. F1-Score:** This metric is the harmonic mean of Precision and Recall. The F1-Score provides a composite score that includes both metrics, and is useful for giving an overall picture of a model's performance."
   ]
  },
  {
   "cell_type": "code",
   "execution_count": 28,
   "metadata": {
    "colab": {
     "base_uri": "https://localhost:8080/"
    },
    "id": "XSdxbF4ZgDG3",
    "outputId": "67132a0f-ffe9-46ca-e18a-0572f38e38b1"
   },
   "outputs": [
    {
     "name": "stdout",
     "output_type": "stream",
     "text": [
      "Precision: 0.7105067064083458\n",
      "Recall: 0.7434118197411508\n",
      "F1-Score: 0.7265869084812924\n"
     ]
    }
   ],
   "source": [
    "# Menghitung Precision, Recall, dan F1-Score\n",
    "precision = precision_score(binary_actual_ratings, binary_predicted_ratings)\n",
    "recall = recall_score(binary_actual_ratings, binary_predicted_ratings)\n",
    "f1 = f1_score(binary_actual_ratings, binary_predicted_ratings)\n",
    "\n",
    "# Menampilkan hasil\n",
    "print(\"Precision:\", precision)\n",
    "print(\"Recall:\", recall)\n",
    "print(\"F1-Score:\", f1)"
   ]
  },
  {
   "cell_type": "markdown",
   "metadata": {
    "id": "TKRgQC-Uhy7G"
   },
   "source": [
    "**Precision:** The Precision value of 0.7105 indicates that around 71.05% of the recommendations given by the model are relevant recommendations. Precision measures the accuracy of the recommendations given.\n",
    "\n",
    "**Recall:** The Recall value of 0.7434 indicates that the model managed to find around 74.34% of all items that were actually relevant. Recall measures the success of the model in finding relevant items.\n",
    "\n",
    "**F1-Score:** The F1-Score value of 0.7265 is the harmonic mean of Precision and Recall. The F1-Score gives an overall picture of the model's performance taking these two metrics into account.\n",
    "\n",
    "With that said, Precision and Recall have relatively high values, indicating that the model provides fairly accurate recommendations and manages to find relevant items.\n",
    "F1-Score also has a relatively high value, indicating that the model has a good balance between Precision and Recall."
   ]
  },
  {
   "cell_type": "code",
   "execution_count": 29,
   "metadata": {
    "colab": {
     "base_uri": "https://localhost:8080/",
     "height": 927
    },
    "id": "ab5fRkaqglLQ",
    "outputId": "0571711d-c8b9-44e9-f58c-cc2ed1bd2cd1"
   },
   "outputs": [
    {
     "data": {
      "image/png": "[encoded data removed]",
      "text/plain": [
       "<Figure size 640x480 with 1 Axes>"
      ]
     },
     "metadata": {},
     "output_type": "display_data"
    },
    {
     "data": {
      "image/png": "[encoded data removed]",
      "text/plain": [
       "<Figure size 640x480 with 1 Axes>"
      ]
     },
     "metadata": {},
     "output_type": "display_data"
    }
   ],
   "source": [
    "# Here to see the distribution of predicted results, as well as visualize the distribution of\n",
    "# predicted results and the actual value to see\n",
    "# how far the model can accurately predict ratings within a certain range\n",
    "\n",
    "# Retrieves the actual rating value and the predicted result\n",
    "actual_ratings = [r[2] for r in testset]\n",
    "predicted_ratings = [pred.est for pred in predictions]\n",
    "\n",
    "# Visualize the distribution of predicted results\n",
    "plt.hist(predicted_ratings, bins=10, alpha=0.5, label='Predicted Ratings')\n",
    "plt.xlabel('Rating')\n",
    "plt.ylabel('Count')\n",
    "plt.title('Distribution of Predicted Ratings')\n",
    "plt.legend()\n",
    "plt.show()\n",
    "\n",
    "# Visualize the comparison between the predicted result and the true value\n",
    "plt.scatter(actual_ratings, predicted_ratings, alpha=0.5)\n",
    "plt.plot([0, 5], [0, 5], linestyle='--', color='r')\n",
    "plt.xlabel('Actual Ratings')\n",
    "plt.ylabel('Predicted Ratings')\n",
    "plt.title('Actual vs. Predicted Ratings')\n",
    "plt.show()"
   ]
  },
  {
   "cell_type": "code",
   "execution_count": 33,
   "metadata": {
    "colab": {
     "base_uri": "https://localhost:8080/"
    },
    "id": "0ptg_T_mksxx",
    "outputId": "1c097bfc-670d-4591-931a-2e7f945648dc"
   },
   "outputs": [
    {
     "name": "stdout",
     "output_type": "stream",
     "text": [
      "Movie Recommendations for Users with ID 1\n",
      "     movieId                          title                  genres\n",
      "84        92             Mary Reilly (1996)   Drama|Horror|Thriller\n",
      "111      125  Flirting With Disaster (1996)                  Comedy\n",
      "139      163               Desperado (1995)  Action|Romance|Western\n"
     ]
    }
   ],
   "source": [
    "#predictions = model.test(testset)\n",
    "# Displays 5 movie recommendations for users with ID 1\n",
    "user_id = 1\n",
    "top_n = 5\n",
    "user_predictions = model.get_neighbors(user_id, k=top_n)\n",
    "recommended_movies = movie_data[movie_data['movieId'].isin(user_predictions)]\n",
    "print(\"Movie Recommendations for Users with ID\", user_id)\n",
    "print(recommended_movies[['movieId', 'title', 'genres']])"
   ]
  },
  {
   "cell_type": "markdown",
   "metadata": {
    "id": "h0dK2OjBlqWq"
   },
   "source": [
    "#### **Conclusion**\n",
    "\n",
    "The Collaborative Filtering model that has been applied has a relatively low error rate in predicting film ratings. With relatively small MSE and RMSE, it can be said that the model is quite accurate in providing rating predictions that are close to the true value.\n",
    "\n",
    "Overall, based on the evaluation that has been done, the collaborative filtering model that you apply has a pretty good performance. Low MSE and RMSE values indicate that the model can predict ratings well, while high Precision, Recall, and F1-Score values indicate that the model provides accurate recommendations and succeeds in finding relevant items.\n",
    "\n",
    "However, keep in mind that a more accurate and comprehensive comparison requires more in-depth analysis taking into account other evaluation metrics and conducting a wider range of tests of conditions and data."
   ]
  }
 ],
 "metadata": {
  "colab": {
   "provenance": []
  },
  "kernelspec": {
   "display_name": "Python 3 (ipykernel)",
   "language": "python",
   "name": "python3"
  },
  "language_info": {
   "codemirror_mode": {
    "name": "ipython",
    "version": 3
   },
   "file_extension": ".py",
   "mimetype": "text/x-python",
   "name": "python",
   "nbconvert_exporter": "python",
   "pygments_lexer": "ipython3",
   "version": "3.10.7"
  }
 },
 "nbformat": 4,
 "nbformat_minor": 1
}
